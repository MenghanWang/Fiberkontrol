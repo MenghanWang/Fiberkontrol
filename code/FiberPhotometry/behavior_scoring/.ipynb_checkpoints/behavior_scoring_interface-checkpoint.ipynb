{
 "metadata": {
  "name": ""
 },
 "nbformat": 3,
 "nbformat_minor": 0,
 "worksheets": [
  {
   "cells": [
    {
     "cell_type": "code",
     "collapsed": false,
     "input": [
      "import numpy as np\n",
      "import time\n",
      "import io\n",
      "import base64\n",
      "from IPython.display import HTML\n",
      "import IPython.core.display\n",
      "\n",
      "def ipynb_input(varname, prompt=''):\n",
      "    \"\"\"Prompt user for input and assign string val to given variable name.\"\"\"\n",
      "    js_code = (\"\"\"\n",
      "       var value = prompt(\"{prompt}\",\"\");\n",
      "       var py_code = \"{varname} = '\" + value + \"'\";\n",
      "       IPython.notebook.kernel.execute(py_code)\n",
      "       \"\"\").format(prompt=prompt, varname=varname)\n",
      "    return IPython.core.display.Javascript(js_code)\n",
      "\n",
      "video = io.open('with_text_30_social.mp4', 'r+b').read()\n",
      "encoded = base64.b64encode(video)\n",
      "start_time = time.time()\n",
      "HTML(data='''<video alt=\"test\" controls autoplay>\n",
      "                <source src=\"data:video/mp4;base64,{0}\" type=\"video/mp4\" />\n",
      "             </video>'''.format(encoded.decode('ascii')))\n"
     ],
     "language": "python",
     "metadata": {},
     "outputs": [],
     "prompt_number": "*"
    },
    {
     "cell_type": "code",
     "collapsed": false,
     "input": [
      "play_time = time.time()\n",
      "print play_time - start_time"
     ],
     "language": "python",
     "metadata": {},
     "outputs": [],
     "prompt_number": "*"
    },
    {
     "cell_type": "code",
     "collapsed": false,
     "input": [
      "while (True):\n",
      "    a = raw_input('hello: ')\n",
      "    if a == 'f':\n",
      "        break\n",
      "        "
     ],
     "language": "python",
     "metadata": {},
     "outputs": [],
     "prompt_number": "*"
    },
    {
     "cell_type": "code",
     "collapsed": false,
     "input": [
      "print 'a'"
     ],
     "language": "python",
     "metadata": {},
     "outputs": [],
     "prompt_number": "*"
    },
    {
     "cell_type": "code",
     "collapsed": false,
     "input": [],
     "language": "python",
     "metadata": {},
     "outputs": []
    }
   ],
   "metadata": {}
  }
 ]
}